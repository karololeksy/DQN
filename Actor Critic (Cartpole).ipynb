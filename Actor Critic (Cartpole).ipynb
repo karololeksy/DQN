{
 "cells": [
  {
   "cell_type": "code",
   "execution_count": 3,
   "metadata": {},
   "outputs": [],
   "source": [
    "import matplotlib.pyplot as plt\n",
    "from util import to_onehot, moving_average, Agent\n",
    "import gym\n",
    "\n",
    "plt.style.use('fivethirtyeight')\n",
    "%matplotlib inline"
   ]
  },
  {
   "cell_type": "code",
   "execution_count": 28,
   "metadata": {},
   "outputs": [],
   "source": [
    "env = gym.make('CartPole-v0')\n",
    "\n",
    "SAMPLE_BATCH_SIZE = 32\n",
    "OBS_SPACE = 4\n",
    "ACTION_SPACE = env.action_space.n\n",
    "N_EPISODES = 2000"
   ]
  },
  {
   "cell_type": "markdown",
   "metadata": {},
   "source": [
    "# scenario 1: single agent training\n",
    "for each s1, the agent learns q-values for s2. it doesnt learn policy - the agent's decision to select the action that leads to s2 with the greatest q-value is hardcoded as argmax.\n",
    "\n",
    "the original atari approach used a single DQN agent."
   ]
  },
  {
   "cell_type": "code",
   "execution_count": 29,
   "metadata": {
    "collapsed": true
   },
   "outputs": [],
   "source": [
    "from agent import Agent\n",
    "agent = Agent(OBS_SPACE, ACTION_SPACE)"
   ]
  },
  {
   "cell_type": "code",
   "execution_count": 30,
   "metadata": {},
   "outputs": [
    {
     "name": "stdout",
     "output_type": "stream",
     "text": [
      "0  / 19\n",
      "100  / 17\n",
      "200  / 60\n",
      "300  / 96\n",
      "400  / 67\n",
      "500  / 151\n",
      "600  / 144\n",
      "700  / 110\n",
      "800  / 187\n",
      "900  / 170\n",
      "1000  / 200\n",
      "1100  / 200\n",
      "1200  / 200\n",
      "1300  / 199\n",
      "1400  / 10\n",
      "1500  / 200\n",
      "1600  / 148\n",
      "1700  / 200\n",
      "1800  / 85\n",
      "1900  / 200\n"
     ]
    }
   ],
   "source": [
    "num_steps = []\n",
    "\n",
    "for episode in range(N_EPISODES):\n",
    "    s1 = env.reset()\n",
    "    done = False\n",
    "    steps = 0\n",
    "    \n",
    "    while not done:\n",
    "        \n",
    "        # propose an action\n",
    "        a = agent.act(s1.reshape(-1,4))\n",
    "        \n",
    "        # what are the consequences of taking that action?\n",
    "        s2, r, done, i = env.step(a)\n",
    "        \n",
    "        # store memories for experience replay (prevents catastrophic forgetting)\n",
    "        agent.remember(s1.reshape(-1,4), a, r, s2.reshape(-1,4), done)\n",
    "        \n",
    "        # move to next state\n",
    "        s1 = s2\n",
    "        steps += 1\n",
    "        \n",
    "    agent.replay(SAMPLE_BATCH_SIZE)\n",
    "    num_steps.append(steps)\n",
    "    \n",
    "    if episode % 100 == 0:\n",
    "        print episode, \" /\", steps"
   ]
  },
  {
   "cell_type": "code",
   "execution_count": 32,
   "metadata": {},
   "outputs": [
    {
     "data": {
      "text/plain": [
       "<matplotlib.text.Text at 0x122d49890>"
      ]
     },
     "execution_count": 32,
     "metadata": {},
     "output_type": "execute_result"
    },
    {
     "data": {
      "image/png": "[encoded data removed]",
      "text/plain": [
       "<matplotlib.figure.Figure at 0x122d06810>"
      ]
     },
     "metadata": {},
     "output_type": "display_data"
    }
   ],
   "source": [
    "plt.plot(moving_average(num_steps, 50))\n",
    "plt.ylabel(\"number of steps required for success\")\n",
    "plt.xlabel(\"episodes\")\n",
    "plt.title(\"RL\")"
   ]
  },
  {
   "cell_type": "markdown",
   "metadata": {},
   "source": [
    "# approach 2: actor/critic model\n",
    "\n",
    "a critic network (aka value network) predicts a single value for a specific location.\n",
    "\n",
    "the value network will place higher values near the final winning position (and low values in the \"hole\" positions). it will place the higest value on the winning final position.\n",
    "\n",
    "the value network expresses the the most efficient path to the policy network. it is no different from a critic telling an actor how to act (and similarly, it is up to the actor to follow the critic's suggestions.)\n",
    "\n",
    "the actor (aka policy network) predicts the best action from the current state. the best action is quantified as (1) reward + (2) discounted next value - (3) predicted value. the actor will no longer select the < action/next-state > with the highest value; instead it will select the < action/next-state > that results in the greatest change in value.\n",
    "\n",
    "* http://www.rage.net/~greg/2016-07-05-ActorCritic-with-OpenAI-Gym.html"
   ]
  },
  {
   "cell_type": "markdown",
   "metadata": {},
   "source": [
    "### critic"
   ]
  },
  {
   "cell_type": "code",
   "execution_count": 36,
   "metadata": {
    "collapsed": true
   },
   "outputs": [],
   "source": [
    "from critic import Critic\n",
    "import math\n",
    "import numpy as np"
   ]
  },
  {
   "cell_type": "code",
   "execution_count": 37,
   "metadata": {},
   "outputs": [],
   "source": [
    "critic = Critic(OBS_SPACE, ACTION_SPACE)\n",
    "gamma = 0.9"
   ]
  },
  {
   "cell_type": "code",
   "execution_count": 42,
   "metadata": {},
   "outputs": [
    {
     "name": "stdout",
     "output_type": "stream",
     "text": [
      "(0, 200)\n",
      "(500, 200)\n",
      "(1000, 200)\n",
      "(1500, 200)\n"
     ]
    }
   ],
   "source": [
    "for episode in range(N_EPISODES):\n",
    "    \n",
    "    s1 = env.reset()\n",
    "    done = False\n",
    "    steps = 0\n",
    "    \n",
    "    while not done:\n",
    "        \n",
    "        # ask critic to predict value for current state        \n",
    "        orig_val = critic.predict(s1.reshape(-1,4))\n",
    "        \n",
    "        # take an action\n",
    "        a = agent.act(s1.reshape(-1,4))\n",
    "        \n",
    "        # what are the consequences of taking that action?\n",
    "        s2, r, done, i = env.step(a)\n",
    "        \n",
    "        # get critic's prediction on next state\n",
    "        new_val = critic.predict(s2.reshape(-1,4))\n",
    "        \n",
    "        # determine target value\n",
    "        if not done:\n",
    "            target = (gamma * new_val)\n",
    "        else:\n",
    "            target = (gamma * r)  # max value is discounted reward at final location\n",
    "        \n",
    "        # positions near final location will propagate backwards\n",
    "        best_val = max((orig_val*gamma), target)\n",
    "        \n",
    "        # each state is encoded with its \"best\" target value\n",
    "        # the target value is equal to the discounted next value\n",
    "        # we dont care which action led to this value!\n",
    "        critic.remember((s1.reshape(-1,4), best_val))\n",
    "        \n",
    "        # if terminal, append another replay for final location (otherwise final loc will never be recorded)\n",
    "        if done:\n",
    "            critic.remember((s2.reshape(-1,4), r))\n",
    "        \n",
    "        # move on to next state and continue\n",
    "        s1 = s2\n",
    "        steps += 1\n",
    "    \n",
    "    critic.replay(SAMPLE_BATCH_SIZE)\n",
    "    \n",
    "    if episode % 500 == 0:\n",
    "        print (episode, steps)"
   ]
  },
  {
   "cell_type": "markdown",
   "metadata": {},
   "source": [
    "## actor"
   ]
  },
  {
   "cell_type": "code",
   "execution_count": 43,
   "metadata": {
    "collapsed": true
   },
   "outputs": [],
   "source": [
    "from actor import Actor\n",
    "actor = Actor(OBS_SPACE, ACTION_SPACE)"
   ]
  },
  {
   "cell_type": "code",
   "execution_count": 55,
   "metadata": {},
   "outputs": [
    {
     "name": "stdout",
     "output_type": "stream",
     "text": [
      "(0, 200)\n",
      "(100, 200)\n",
      "(200, 200)\n",
      "(300, 200)\n",
      "(400, 200)\n",
      "(500, 200)\n",
      "(600, 200)\n",
      "(700, 200)\n",
      "(800, 200)\n",
      "(900, 200)\n"
     ]
    }
   ],
   "source": [
    "n_steps = []\n",
    "\n",
    "for episode in range(1000):\n",
    "    \n",
    "    s1 = env.reset()\n",
    "    done = False\n",
    "    steps = 0\n",
    "    \n",
    "    while not done:\n",
    "        # get value for current state from critic\n",
    "        orig_val = critic.predict(s1.reshape(-1,4))\n",
    "        \n",
    "        # propose an action\n",
    "        a = agent.act(s1.reshape(-1,4))\n",
    "        \n",
    "        # what are the consequences of taking that action?\n",
    "        s2, r, done, i = env.step(a)\n",
    "        \n",
    "        # get value for next state from critic\n",
    "        new_val = critic.predict(s2.reshape(-1,4))\n",
    "        \n",
    "        # The actor is updated\n",
    "        # by using the difference of the value the critic\n",
    "        # placed on the old state vs. the value the critic\n",
    "        # places on the new state.. encouraging the actor\n",
    "        # to move into more valuable states.\n",
    "        \n",
    "        # actor learns to predict a set of actor deltas\n",
    "        actor_delta = new_val - orig_val                \n",
    "        actor.remember([s1.reshape(-1,4), a, actor_delta])\n",
    "    \n",
    "        # move on to next state and continue\n",
    "        s1 = s2\n",
    "        steps += 1\n",
    "    \n",
    "        # TODO: inside while loop or not?\n",
    "    actor.replay()\n",
    "    n_steps.append(steps)\n",
    "    \n",
    "    if episode % 100 == 0:\n",
    "        print (episode, steps)"
   ]
  },
  {
   "cell_type": "code",
   "execution_count": 56,
   "metadata": {},
   "outputs": [
    {
     "data": {
      "text/plain": [
       "<matplotlib.text.Text at 0x1230eb9d0>"
      ]
     },
     "execution_count": 56,
     "metadata": {},
     "output_type": "execute_result"
    },
    {
     "data": {
      "image/png": "[encoded data removed]",
      "text/plain": [
       "<matplotlib.figure.Figure at 0x124aff490>"
      ]
     },
     "metadata": {},
     "output_type": "display_data"
    }
   ],
   "source": [
    "plt.plot(moving_average(n_steps, 50))\n",
    "plt.ylabel(\"number of steps required for success\")\n",
    "plt.xlabel(\"episodes\")\n",
    "plt.title(\"RL\")"
   ]
  },
  {
   "cell_type": "code",
   "execution_count": null,
   "metadata": {
    "collapsed": true
   },
   "outputs": [],
   "source": []
  }
 ],
 "metadata": {
  "kernelspec": {
   "display_name": "Python 2",
   "language": "python",
   "name": "python2"
  },
  "language_info": {
   "codemirror_mode": {
    "name": "ipython",
    "version": 2
   },
   "file_extension": ".py",
   "mimetype": "text/x-python",
   "name": "python",
   "nbconvert_exporter": "python",
   "pygments_lexer": "ipython2",
   "version": "2.7.13"
  }
 },
 "nbformat": 4,
 "nbformat_minor": 2
}
