{
 "cells": [
  {
   "cell_type": "code",
   "execution_count": 1,
   "metadata": {},
   "outputs": [
    {
     "name": "stderr",
     "output_type": "stream",
     "text": [
      "Using Theano backend.\n"
     ]
    }
   ],
   "source": [
    "import matplotlib.pyplot as plt\n",
    "from util import to_onehot, moving_average, Agent\n",
    "import gym\n",
    "from gym.envs.registration import register, spec\n",
    "\n",
    "plt.style.use('fivethirtyeight')\n",
    "%matplotlib inline"
   ]
  },
  {
   "cell_type": "code",
   "execution_count": 80,
   "metadata": {},
   "outputs": [
    {
     "name": "stderr",
     "output_type": "stream",
     "text": [
      "[2017-10-03 14:38:20,491] Making new env: FrozenLakeNonskid4x4-v1\n"
     ]
    }
   ],
   "source": [
    "MY_ENV_NAME='FrozenLakeNonskid4x4-v1'\n",
    "\n",
    "register(\n",
    "    id=MY_ENV_NAME,\n",
    "    entry_point='gym.envs.toy_text:FrozenLakeEnv',\n",
    "    kwargs={'map_name': '8x8', 'is_slippery': False},\n",
    "    timestep_limit=100,\n",
    "    reward_threshold=0.78, # optimum = .8196\n",
    ")\n",
    "env = gym.make(MY_ENV_NAME)"
   ]
  },
  {
   "cell_type": "code",
   "execution_count": 81,
   "metadata": {
    "collapsed": true
   },
   "outputs": [],
   "source": [
    "SAMPLE_BATCH_SIZE = 32\n",
    "OBSERVATION_SPACE = env.observation_space.n\n",
    "ACTION_SPACE = env.action_space.n  # 0 = left; 1 = down; 2 = right;  3 = up\n",
    "agent = Agent(OBSERVATION_SPACE, ACTION_SPACE)"
   ]
  },
  {
   "cell_type": "code",
   "execution_count": 82,
   "metadata": {},
   "outputs": [
    {
     "name": "stdout",
     "output_type": "stream",
     "text": [
      "0\n"
     ]
    }
   ],
   "source": [
    "history = []\n",
    "num_steps = []\n",
    "\n",
    "for episode in range(10):\n",
    "    \n",
    "    state = env.reset()  # state is a int number corresponding to the agent's position in a board\n",
    "    done = False\n",
    "    steps = 0\n",
    "    \n",
    "    while not done:\n",
    "        \n",
    "        # propose an action\n",
    "        curr_state_encoded = to_onehot(OBSERVATION_SPACE, state).reshape(1,OBSERVATION_SPACE)\n",
    "        action = agent.act(curr_state_encoded)\n",
    "        \n",
    "        # what are the consequences of taking that action?\n",
    "        next_state, reward, done, transmit_prob = env.step(action)\n",
    "        next_state_encoded = to_onehot(OBSERVATION_SPACE, next_state).reshape(1,OBSERVATION_SPACE)\n",
    "        \n",
    "        \n",
    "        # store memories\n",
    "        agent.remember(curr_state_encoded, action, reward, next_state_encoded, done)\n",
    "        \n",
    "        # move on to next state and continue\n",
    "        state = next_state\n",
    "        steps += 1\n",
    "    agent.replay(SAMPLE_BATCH_SIZE)\n",
    "    \n",
    "    if episode % 500 == 0:\n",
    "        print (episode)\n",
    "        \n",
    "    if state == 15:\n",
    "        history.append(1)\n",
    "    else:\n",
    "        history.append(0)\n",
    "    num_steps.append(steps)"
   ]
  },
  {
   "cell_type": "code",
   "execution_count": 83,
   "metadata": {},
   "outputs": [
    {
     "data": {
      "text/plain": [
       "[<matplotlib.lines.Line2D at 0x126b4db10>]"
      ]
     },
     "execution_count": 83,
     "metadata": {},
     "output_type": "execute_result"
    },
    {
     "data": {
      "image/png": "[encoded data removed]",
      "text/plain": [
       "<matplotlib.figure.Figure at 0x1246c5510>"
      ]
     },
     "metadata": {},
     "output_type": "display_data"
    }
   ],
   "source": [
    "plt.plot(moving_average(history, 50))"
   ]
  },
  {
   "cell_type": "code",
   "execution_count": 84,
   "metadata": {},
   "outputs": [
    {
     "data": {
      "text/plain": [
       "[<matplotlib.lines.Line2D at 0x1266331d0>]"
      ]
     },
     "execution_count": 84,
     "metadata": {},
     "output_type": "execute_result"
    },
    {
     "data": {
      "image/png": "[encoded data removed]",
      "text/plain": [
       "<matplotlib.figure.Figure at 0x124ec2350>"
      ]
     },
     "metadata": {},
     "output_type": "display_data"
    }
   ],
   "source": [
    "plt.plot(moving_average(num_steps, 50))"
   ]
  },
  {
   "cell_type": "markdown",
   "metadata": {},
   "source": [
    "# 2) critic\n",
    "a critic network (aka value network) predicts a single real value for a specific location.\n",
    "\n",
    "not surprising, the value network (the critic) will place higher values near the final winning position (and low values in the \"hole\" positions). \n",
    "\n",
    "We can see that the value network has placed a high value on the winning final position. That value equaling the reward gained when in that position. It also places a very low value on the ‘hole’ positions. Makes sense. Then we can see that the network places ever growing value on positions which move us closer to the winning position. Thus the value network can express to the policy network that a move which moves us closer to the winning position is more valuable. \n",
    "\n",
    "* http://www.rage.net/~greg/2016-07-05-ActorCritic-with-OpenAI-Gym.html"
   ]
  },
  {
   "cell_type": "code",
   "execution_count": 85,
   "metadata": {
    "collapsed": true
   },
   "outputs": [],
   "source": [
    "from collections import deque\n",
    "\n",
    "from keras.models import Sequential\n",
    "from keras.layers import Dense\n",
    "from keras.optimizers import SGD\n",
    "\n",
    "class Critic(object):\n",
    "    def __init__(self, state_size, action_size):\n",
    "        self.state_size = state_size\n",
    "        self.action_size = action_size\n",
    "        self.memory = deque(maxlen=2000)\n",
    "        self.gamma = 0.95\n",
    "        self.brain = self._build_model()\n",
    "    \n",
    "    def _build_model(self):\n",
    "        model = Sequential()\n",
    "        model.add(Dense(164, input_shape=(OBSERVATION_SPACE,), activation='relu'))\n",
    "        model.add(Dense(150, input_shape=(OBSERVATION_SPACE,), activation='relu'))\n",
    "        model.add(Dense(1, activation='linear'))\n",
    "        c_optimizer = SGD(lr=0.1, decay=1e-6, momentum=0.9, nesterov=True)\n",
    "        model.compile(loss='mse', optimizer=c_optimizer)\n",
    "        return model\n",
    "    \n",
    "    def predict(self, state):\n",
    "        return self.brain.predict(state)\n",
    "    \n",
    "    def remember(self, experience):\n",
    "        self.memory.append(experience)\n",
    "        \n",
    "    def replay(self, sample_batch_size):\n",
    "        if len(self.memory) > sample_batch_size:\n",
    "            minibatch = random.sample(self.memory, SAMPLE_BATCH_SIZE)\n",
    "            X_train = []\n",
    "            y_train = []\n",
    "            for memory in minibatch:\n",
    "                m_state, m_value = memory\n",
    "                y = np.empty([1])\n",
    "                y[0] = m_value\n",
    "                X_train.append(m_state.reshape((OBSERVATION_SPACE,)))\n",
    "                y_train.append(y.reshape((1,)))\n",
    "            X_train = np.array(X_train)\n",
    "            y_train = np.array(y_train)\n",
    "            self.brain.fit(X_train, y_train, batch_size=SAMPLE_BATCH_SIZE, epochs=1, verbose=0)\n",
    "        else:\n",
    "            return False\n",
    "    \n",
    "    def plot_value(self, initial_state):\n",
    "        obs_sqr = math.sqrt(self.state_size)\n",
    "        obs_sqr = int(math.sqrt(OBSERVATION_SPACE))\n",
    "        np_w_cri_r = np.zeros((obs_sqr, obs_sqr))\n",
    "        working_state = initial_state.copy()\n",
    "        for x in range(0, obs_sqr):\n",
    "            for y in range(0, obs_sqr):\n",
    "                my_state = working_state.copy()\n",
    "                \n",
    "                my_state[x,y] = 1  # Place the player at a given X/Y location.\n",
    "\n",
    "                # And now have the critic model predict the state value\n",
    "                # with the player in that location.\n",
    "                value = self.brain.predict(my_state.reshape(1, OBSERVATION_SPACE))\n",
    "                np_w_cri_r[x,y] = value\n",
    "        np_w_cri_r.shape\n",
    "        plt.pcolor(np_w_cri_r)\n",
    "        plt.title(\"Value Network\")\n",
    "        plt.colorbar()\n",
    "        plt.xlabel(\"X\")\n",
    "        plt.ylabel(\"Y\")\n",
    "        plt.gca().invert_yaxis()\n",
    "        plt.draw()"
   ]
  },
  {
   "cell_type": "code",
   "execution_count": 89,
   "metadata": {},
   "outputs": [
    {
     "data": {
      "text/plain": [
       "array([[ 0.,  0.,  0.,  0.,  0.,  0.,  0.,  0.],\n",
       "       [ 0.,  0.,  0.,  0.,  0.,  0.,  0.,  0.],\n",
       "       [ 0.,  0.,  0.,  0.,  0.,  0.,  0.,  0.],\n",
       "       [ 0.,  0.,  0.,  0.,  0.,  0.,  0.,  0.],\n",
       "       [ 0.,  0.,  0.,  0.,  0.,  0.,  0.,  0.],\n",
       "       [ 0.,  0.,  0.,  0.,  0.,  0.,  0.,  0.],\n",
       "       [ 0.,  0.,  0.,  0.,  0.,  0.,  0.,  0.],\n",
       "       [ 0.,  0.,  0.,  0.,  0.,  0.,  0.,  0.]])"
      ]
     },
     "execution_count": 89,
     "metadata": {},
     "output_type": "execute_result"
    }
   ],
   "source": [
    "OBSERVATION_SPACE = env.observation_space.n\n",
    "ACTION_SPACE = env.action_space.n\n",
    "\n",
    "# Assume gridworld is always square\n",
    "OBS_SQR= int(math.sqrt(OBSERVATION_SPACE))\n",
    "STATEGRID = np.zeros((OBS_SQR,OBS_SQR))\n",
    "STATEGRID"
   ]
  },
  {
   "cell_type": "code",
   "execution_count": 90,
   "metadata": {},
   "outputs": [
    {
     "name": "stdout",
     "output_type": "stream",
     "text": [
      "0\n",
      "500\n",
      "1000\n",
      "1500\n",
      "2000\n",
      "2500\n"
     ]
    }
   ],
   "source": [
    "critic = Critic(OBSERVATION_SPACE, ACTION_SPACE)\n",
    "\n",
    "history = []\n",
    "num_steps = []\n",
    "gamma = .9\n",
    "\n",
    "for episode in range(3000):\n",
    "    \n",
    "    state = env.reset()  # state is a int number corresponding to the agent's position in a board\n",
    "    done = False\n",
    "    steps = 0\n",
    "    \n",
    "    while not done:\n",
    "        #@ get critic prediction on current state        \n",
    "        curr_state_encoded = to_onehot(OBSERVATION_SPACE, state).reshape(1,OBSERVATION_SPACE)\n",
    "        orig_val = critic.predict(curr_state_encoded)\n",
    "        \n",
    "        # propose an action\n",
    "        action = agent.act(curr_state_encoded)\n",
    "        \n",
    "        # what are the consequences of taking that action?\n",
    "        next_state, reward, done, transmit_prob = env.step(action)\n",
    "        next_state_encoded = to_onehot(OBSERVATION_SPACE, next_state).reshape(1,OBSERVATION_SPACE)\n",
    "        \n",
    "        #@ get critic's prediction on next state\n",
    "        new_val = critic.predict(next_state_encoded)\n",
    "        \n",
    "        #@ define target value\n",
    "        if not done:\n",
    "            target = (gamma * new_val)\n",
    "        else:\n",
    "            target = (gamma * reward)\n",
    "        \n",
    "        best_val = max((orig_val*gamma), target)\n",
    "        critic.remember((curr_state_encoded, best_val))\n",
    "        if done:\n",
    "            critic.remember((next_state_encoded, reward))\n",
    "        \n",
    "        # move on to next state and continue\n",
    "        state = next_state\n",
    "        steps += 1\n",
    "    \n",
    "    critic.replay(SAMPLE_BATCH_SIZE)\n",
    "    \n",
    "    if episode % 500 == 0:\n",
    "        print (episode)\n",
    "        \n",
    "    if state == 15:\n",
    "        history.append(1)\n",
    "    else:\n",
    "        history.append(0)\n",
    "    num_steps.append(steps)"
   ]
  },
  {
   "cell_type": "code",
   "execution_count": 91,
   "metadata": {},
   "outputs": [
    {
     "data": {
      "image/png": "[encoded data removed]",
      "text/plain": [
       "<matplotlib.figure.Figure at 0x121dd81d0>"
      ]
     },
     "metadata": {},
     "output_type": "display_data"
    }
   ],
   "source": [
    "critic.plot_value(STATEGRID)"
   ]
  },
  {
   "cell_type": "code",
   "execution_count": null,
   "metadata": {
    "collapsed": true
   },
   "outputs": [],
   "source": []
  }
 ],
 "metadata": {
  "kernelspec": {
   "display_name": "Python 2",
   "language": "python",
   "name": "python2"
  },
  "language_info": {
   "codemirror_mode": {
    "name": "ipython",
    "version": 2
   },
   "file_extension": ".py",
   "mimetype": "text/x-python",
   "name": "python",
   "nbconvert_exporter": "python",
   "pygments_lexer": "ipython2",
   "version": "2.7.13"
  }
 },
 "nbformat": 4,
 "nbformat_minor": 2
}
